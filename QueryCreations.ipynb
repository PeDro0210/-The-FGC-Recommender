{
 "cells": [
  {
   "cell_type": "code",
   "execution_count": 4,
   "metadata": {},
   "outputs": [
    {
     "name": "stderr",
     "output_type": "stream",
     "text": [
      "Unable to retrieve routing information\n"
     ]
    },
    {
     "name": "stdout",
     "output_type": "stream",
     "text": [
      "Error al conectar: Unable to retrieve routing information\n"
     ]
    }
   ],
   "source": [
    "import neo4j as neo\n",
    "import os\n",
    "from dotenv import load_dotenv\n",
    "\n",
    "load_dotenv()\n",
    "\n",
    "# Driver for graph\n",
    "driver = neo.GraphDatabase.driver(os.getenv('NEO4J_URI'), auth=(os.getenv('NEO4J_USER'), os.getenv('NEO4J_PASS')))\n",
    "\n",
    "\n"
   ]
  },
  {
   "cell_type": "code",
   "execution_count": 3,
   "metadata": {},
   "outputs": [],
   "source": [
    "\n",
    "# Structure of the questions and answers\n",
    "\"\"\"\n",
    "Questions = [{\n",
    "    \"question1\": \"Question 1\",\n",
    "    \"answers1\": [{\"answer1\":\"Answear one\",\"categories/arquetype\":[\"Cat/Arq1\",\"Cat/Arq2\"]},\n",
    "                 {\"answer2\":\"Answear two\",\"categories/arquetype\":[\"Cat/Arq1\",\"Cat/Arq2\"]}]\n",
    "    },\n",
    "    {\n",
    "    \"question2\": \"Question 2\",\n",
    "    \"answers2\": [{\"answer1\":\"Answear one\",\"categories/arquetype\":[\"Cat/Arq1\",\"Cat/Arq2\"]},\n",
    "                 {\"answer2\":\"Answear two\",\"categories/arquetype\":[\"Cat/Arq1\",\"Cat/Arq2\"]}]\n",
    "    },\n",
    "    {\n",
    "    }]\n",
    "\"\"\"\n",
    "Questions = [{}]\n",
    "\n",
    "\n",
    "\n",
    "\"\"\"\n",
    "Question node\n",
    "/    |    \\\n",
    "A1   A2   A3\n",
    "\"\"\"\n",
    "\n",
    "# TODO: Create query for question and answers\n",
    "Query = \"CREATE (q:Question {questions: $question}) RETURN q\"\n"
   ]
  },
  {
   "cell_type": "code",
   "execution_count": null,
   "metadata": {},
   "outputs": [],
   "source": []
  }
 ],
 "metadata": {
  "kernelspec": {
   "display_name": "Python 3",
   "language": "python",
   "name": "python3"
  },
  "language_info": {
   "codemirror_mode": {
    "name": "ipython",
    "version": 3
   },
   "file_extension": ".py",
   "mimetype": "text/x-python",
   "name": "python",
   "nbconvert_exporter": "python",
   "pygments_lexer": "ipython3",
   "version": "3.10.11"
  }
 },
 "nbformat": 4,
 "nbformat_minor": 2
}
