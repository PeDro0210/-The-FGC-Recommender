{
 "cells": [
  {
   "cell_type": "code",
   "execution_count": 6,
   "metadata": {},
   "outputs": [],
   "source": [
    "MATCH (usuario:User {name: \"Ufc30b8390659c926d57d80dfa68bc259d71c43e2be6ac8b77b31be28d5bad485\"})-[:Likes]->(label:Label)\n",
    "WITH COLLECT(DISTINCT label) AS labels\n",
    "UNWIND labels AS label\n",
    "MATCH (label)<-[:Likes]-(otro_usuario:User)\n",
    "WHERE otro_usuario.name <> \"Ufc30b8390659c926d57d80dfa68bc259d71c43e2be6ac8b77b31be28d5bad485\"\n",
    "WITH COLLECT(DISTINCT otro_usuario) AS usuarios_conectados, labels\n",
    "UNWIND labels AS label\n",
    "MATCH (otro_usuario)-[:Likes]->(otro_label:Label)\n",
    "WHERE otro_label <> label\n",
    "WITH COLLECT(DISTINCT otro_usuario) AS usuarios_otro_label\n",
    "MATCH (usuario)-[:Likes]->(label)<-[:BELONGS_TO]-(reconode:Reconode)\n",
    "WITH COLLECT(DISTINCT reconode) AS juegos_usuario\n",
    "MATCH (usuarios_conectados)-[:Likes]->(label)<-[:BELONGS_TO]-(reconode_otro_usuario:Reconode)\n",
    "WITH usuarios_conectados, juegos_usuario, COLLECT(DISTINCT reconode_otro_usuario) AS juegos_otro_usuario\n",
    "WITH usuarios_conectados, juegos_usuario, juegos_otro_usuario, size(apoc.coll.intersection(juegos_usuario, juegos_otro_usuario)) AS intersection_size\n",
    "WHERE toFloat(intersection_size) / toFloat(size(apoc.coll.union(juegos_usuario, juegos_otro_usuario))) >= 0.75\n",
    "RETURN usuarios_conectados, juegos_otro_usuario\n",
    "\n"
   ]
  }
 ],
 "metadata": {
  "kernelspec": {
   "display_name": "Python 3",
   "language": "python",
   "name": "python3"
  },
  "language_info": {
   "codemirror_mode": {
    "name": "ipython",
    "version": 3
   },
   "file_extension": ".py",
   "mimetype": "text/x-python",
   "name": "python",
   "nbconvert_exporter": "python",
   "pygments_lexer": "ipython3",
   "version": "3.10.11"
  }
 },
 "nbformat": 4,
 "nbformat_minor": 2
}
