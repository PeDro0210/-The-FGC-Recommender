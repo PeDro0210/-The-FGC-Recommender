{
 "cells": [
  {
   "cell_type": "code",
   "execution_count": null,
   "metadata": {},
   "outputs": [],
   "source": [
    "import neo4j as neo\n",
    "import os\n",
    "from dotenv import load_dotenv\n",
    "from collections import defaultdict\n",
    "\n",
    "load_dotenv()\n",
    "\n",
    "\n",
    "driver = neo.GraphDatabase.driver(os.getenv('NEO4J_URI'), auth=(os.getenv('NEO4J_USERNAME'), os.getenv('NEO4J_PASSWORD')))\n",
    "\n",
    "\n",
    "def CoefJacc(set1, set2):\n",
    "    intersection = len(set1.intersection(set2))\n",
    "    union = len(set1.union(set2))\n",
    "    return intersection / union if union != 0 else 0\n",
    "\n",
    "def find_similar_users_games(user_name):\n",
    "    similar_users_games = defaultdict(set)\n",
    "\n",
    "    with driver.session() as session:\n",
    "        # Obtener los likes del Usario a evaluar\n",
    "        user_categories = set(session.run(\n",
    "            \"MATCH (u:User {name: $user_name})-[:LIKES]->(:Reconode)-[:BELONGS_TO]->(c:Label) RETURN c.name\",\n",
    "            user_name=user_name\n",
    "        ).values())\n",
    "\n",
    "        # Buscar Similitudes\n",
    "        similar_users = session.run(\n",
    "            \"MATCH (u:User)-[:LIKES]->(:Reconode)-[:BELONGS_TO]->(c:Label) WHERE u.name <> $user_name AND c.name IN $user_categories RETURN u.name\",\n",
    "            user_name=user_name,\n",
    "            user_categories=list(user_categories)\n",
    "        )\n",
    "\n",
    "        # Ecnontrada las similitudes de usuario, buscar las similitudes de juego\n",
    "        for record in similar_users:\n",
    "            similar_user_name = record[\"u.name\"]\n",
    "\n",
    "            similar_user_games = set(session.run(\n",
    "                \"MATCH (u:User {name: $user_name})-[:LIKES]->(g:Reconode) RETURN g.name\",\n",
    "                user_name=similar_user_name\n",
    "            ).values())\n",
    "\n",
    "       # Revisar si el coeficiente de Jaccard cumple con el > 0.75\n",
    "            similarity = CoefJacc(user_categories, similar_user_games) \n",
    "            if similarity > 0.75:\n",
    "                similar_users_games[similar_user_name] = similar_user_games\n",
    "\n",
    "    return similar_users_games"
   ]
  }
 ],
 "metadata": {
  "language_info": {
   "name": "python"
  }
 },
 "nbformat": 4,
 "nbformat_minor": 2
}
