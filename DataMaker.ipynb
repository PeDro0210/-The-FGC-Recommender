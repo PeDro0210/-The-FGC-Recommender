{
 "cells": [
  {
   "cell_type": "code",
   "execution_count": 11,
   "metadata": {},
   "outputs": [],
   "source": [
    "import pandas as pd\n",
    "import os\n",
    "\n",
    "\"\"\"\n",
    "Como ira organizado el DataFrame\n",
    "\n",
    "Games | ReleaseDate | CharactersPath | Developer | 2D | 3D | TagTeam | AirDashers | Anime | WeaponBased | Fast-paced | Footsies | SlowPaced | Installbased | CrossOver\n",
    "Nombre | Fecha de Lanzamiento | Ruta_en_dir_data (del archivo con los links de personajes)|ImageLink | Desarrollador | y el resto con una X mayuscula si tiene esa caracteristica o un espacio si no la tiene\n",
    "\"\"\"\n",
    "\n",
    "\n",
    "df = pd.DataFrame({\"Games\":[],\n",
    "                   \"ReleaseDate\":[],\n",
    "                   \"CharactersPath\":[],\n",
    "                   \"ImageLink\":[], #Link de la imagen del juego \n",
    "                   \"2D\":[], \n",
    "                   \"3D\":[], \n",
    "                   \"TagTeam\":[], \n",
    "                   \"AirDashers\":[], \n",
    "                   \"Anime\":[], \n",
    "                   \"WeaponBased\":[], \n",
    "                   \"Fast-paced\":[],\n",
    "                   \"Footsies\":[],\n",
    "                   \"SlowPaced\":[],\n",
    "                   \"Installbased\":[],\n",
    "                   \"CrossOver\":[]\n",
    "                   })\n",
    "\n",
    "\n",
    "\n",
    "#funcion que crea un archivo csv con el nombre del juego y la link de discord de la imagen de los personajes.\n",
    "\n",
    "def CreateCharacterFile(GameName)-> None:\n",
    "    file_name =  f\"Data/{GameName}.csv\"\n",
    "\n",
    "    if os.path.exists(file_name):\n",
    "        \n",
    "        return None\n",
    "\n",
    "    with open(file_name, \"w\") as f:\n",
    "\n",
    "        # First row is the header, put CharacterName and ImageLink\n",
    "        f.write(\"CharacterName,ImageLink,Archetype,Archetype2,Archetype3,Archetype4,Archetype5\\n\")\n",
    "        f.close()\n",
    "\n"
   ]
  },
  {
   "cell_type": "code",
   "execution_count": 14,
   "metadata": {},
   "outputs": [],
   "source": [
    "\n",
    "\"\"\"\n",
    "Agregar un nuevo juego por medio de los archivos tabulados\n",
    "Los archivos tabulados deben de estar en la carpeta TabulatedData\n",
    "\"\"\"\n",
    "\n",
    "with open(f\"TabulatedData/GameName.csv\", \"r\") as f:\n",
    "    rows_to_add = []\n",
    "    for line in f:\n",
    "            # Desempaquetar y eliminar espacios en blanco\n",
    "            GameName, ReleaseDate = map(str.strip, line.split(\",\"))\n",
    "            \n",
    "            # Diccionario para la nueva fila\n",
    "            new_row = {\n",
    "                \"Games\": GameName,\n",
    "                \"ReleaseDate\": ReleaseDate,\n",
    "                \"CharactersPath\": f\"Data/{GameName}.csv\",\n",
    "                \"ImageLink\": \"\",\n",
    "                \"2D\": \"\",\n",
    "                \"3D\": \"\",\n",
    "                \"TagTeam\": \"\",\n",
    "                \"AirDashers\": \"\",\n",
    "                \"Anime\": \"\",\n",
    "                \"WeaponBased\": \"\",\n",
    "                \"Fast-paced\": \"\",\n",
    "                \"Footsies\": \"\",\n",
    "                \"SlowPaced\": \"\",\n",
    "                \"Installbased\": \"\",\n",
    "                \"CrossOver\": \"\"\n",
    "            }\n",
    "            \n",
    "            # Añadir a la lista de filas a agregar\n",
    "            rows_to_add.append(new_row)\n",
    "\n",
    "    # Usar pandas.concat para agregar todas las filas al DataFrame\n",
    "    df = pd.concat([df, pd.DataFrame(rows_to_add)], ignore_index=True)"
   ]
  },
  {
   "cell_type": "code",
   "execution_count": null,
   "metadata": {},
   "outputs": [],
   "source": [
    "\n",
    "\"\"\"\n",
    "Volver el dataFrame del pirmer bloque en un CSV\n",
    "\"\"\"\n",
    "\n",
    "df.to_csv(\"Games.csv\", index=False) "
   ]
  },
  {
   "cell_type": "code",
   "execution_count": null,
   "metadata": {},
   "outputs": [],
   "source": [
    "import pandas as pd\n",
    "import pandas as pd\n",
    "import neo4j as neo\n",
    "import os\n",
    "from dotenv import load_dotenv\n",
    "\n",
    "load_dotenv()\n",
    "\n",
    "# Driver for graph\n",
    "driver = neo.GraphDatabase.driver(os.getenv('NEO4J_URI'), auth=(os.getenv('NEO4J_USER'), os.getenv('NEO4J_PASS')))\n",
    "driver.verify_connectivity()\n",
    "\n"
   ]
  },
  {
   "cell_type": "code",
   "execution_count": 14,
   "metadata": {},
   "outputs": [
    {
     "name": "stderr",
     "output_type": "stream",
     "text": [
      "Unable to retrieve routing information\n"
     ]
    },
    {
     "name": "stdout",
     "output_type": "stream",
     "text": [
      "Error al conectar: Unable to retrieve routing information\n"
     ]
    }
   ],
   "source": []
  },
  {
   "cell_type": "code",
   "execution_count": null,
   "metadata": {},
   "outputs": [],
   "source": [
    "import pandas as pd\n",
    "import pandas as pd\n",
    "import neo4j as neo\n",
    "import os\n",
    "from dotenv import load_dotenv\n",
    "\n",
    "load_dotenv()\n",
    "\n",
    "# Driver for graph\n",
    "driver = neo.GraphDatabase.driver(os.getenv('NEO4J_URI'), auth=(os.getenv('NEO4J_USER'), os.getenv('NEO4J_PASS')))\n",
    "\n",
    "# Leer el CSV\n",
    "csv_path = \"Games.csv\"\n",
    "data = pd.read_csv(csv_path)\n",
    "\n",
    "# Crear nodos y relaciones en Neo4j\n",
    "with driver.session() as session:\n",
    "    # Crear nodos para juegos\n",
    "    for index, row in data.iterrows():\n",
    "        game_name = row['Games']\n",
    "        release_date = row['ReleaseDate']\n",
    "        characters_path = row['CharactersPath']\n",
    "        image_link = row['ImageLink']\n",
    "\n",
    "        # Crear el nodo de juego\n",
    "        session.run(\"CREATE (g:Game {name: $name, release_date: $release_date, characters_path: $characters_path, image_link: $image_link})\",\n",
    "                    name=game_name, release_date=release_date, characters_path=characters_path, image_link=image_link)\n",
    "\n",
    "        # Para cada categoría, si hay una 'X', crear el nodo de categoría y la relación\n",
    "        category_columns = [\"2D\", \"3D\", \"TagTeam\", \"AirDashers\", \"Anime\", \"WeaponBased\", \"Fast-paced\", \n",
    "                            \"Footsies\", \"SlowPaced\", \"Installbased\", \"CrossOver\"]\n",
    "\n",
    "        for category in category_columns:\n",
    "            if pd.notna(row[category]) and row[category] == 'X':\n",
    "         \n",
    "                session.run(\"MERGE (c:Category {name: $category})\", category=category)\n",
    "\n",
    "                session.run(\"MATCH (g:Game {name: $game_name}), (c:Category {name: $category}) CREATE (g)-[:BELONGS_TO]->(c)\",\n",
    "                            game_name=game_name, category=category)\n",
    "\n",
    "driver.close()\n"
   ]
  }
 ],
 "metadata": {
  "kernelspec": {
   "display_name": "fgc-recommendator",
   "language": "python",
   "name": "python3"
  },
  "language_info": {
   "codemirror_mode": {
    "name": "ipython",
    "version": 3
   },
   "file_extension": ".py",
   "mimetype": "text/x-python",
   "name": "python",
   "nbconvert_exporter": "python",
   "pygments_lexer": "ipython3",
   "version": "3.10.11"
  }
 },
 "nbformat": 4,
 "nbformat_minor": 2
}
