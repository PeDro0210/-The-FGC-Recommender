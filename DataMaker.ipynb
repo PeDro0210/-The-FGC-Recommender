{
 "cells": [
  {
   "cell_type": "code",
   "execution_count": 11,
   "metadata": {},
   "outputs": [],
   "source": [
    "import pandas as pd\n",
    "import os\n",
    "\n",
    "\"\"\"\n",
    "Como ira organizado el DataFrame\n",
    "\n",
    "Games | ReleaseDate | CharactersPath | Developer | 2D | 3D | TagTeam | AirDashers | Anime | WeaponBased | Fast-paced | Footsies | SlowPaced | Installbased | CrossOver\n",
    "Nombre | Fecha de Lanzamiento | Ruta_en_dir_data (del archivo con los links de personajes)|ImageLink | Desarrollador | y el resto con una X mayuscula si tiene esa caracteristica o un espacio si no la tiene\n",
    "\"\"\"\n",
    "\n",
    "\n",
    "df = pd.DataFrame({\"Games\":[],\n",
    "                   \"ReleaseDate\":[],\n",
    "                   \"CharactersPath\":[],\n",
    "                   \"ImageLink\":[], #Link de la imagen del juego \n",
    "                   \"2D\":[], \n",
    "                   \"3D\":[], \n",
    "                   \"TagTeam\":[], \n",
    "                   \"AirDashers\":[], \n",
    "                   \"Anime\":[], \n",
    "                   \"WeaponBased\":[], \n",
    "                   \"Fast-paced\":[],\n",
    "                   \"Footsies\":[],\n",
    "                   \"SlowPaced\":[],\n",
    "                   \"Installbased\":[],\n",
    "                   \"CrossOver\":[]\n",
    "                   })\n",
    "\n",
    "\n",
    "\n",
    "#funcion que crea un archivo csv con el nombre del juego y la link de discord de la imagen de los personajes.\n",
    "\n",
    "def CreateCharacterFile(GameName)-> None:\n",
    "    file_name =  f\"Data/{GameName}.csv\"\n",
    "\n",
    "    if os.path.exists(file_name):\n",
    "        \n",
    "        return None\n",
    "\n",
    "    with open(file_name, \"w\") as f:\n",
    "\n",
    "        # First row is the header, put CharacterName and ImageLink\n",
    "        f.write(\"CharacterName,ImageLink,Archetype,Archetype2,Archetype3,Archetype4,Archetype5\\n\")\n",
    "        f.close()\n",
    "\n"
   ]
  },
  {
   "cell_type": "code",
   "execution_count": 14,
   "metadata": {},
   "outputs": [],
   "source": [
    "\n",
    "\"\"\"\n",
    "Agregar un nuevo juego por medio de los archivos tabulados\n",
    "Los archivos tabulados deben de estar en la carpeta TabulatedData\n",
    "\"\"\"\n",
    "\n",
    "with open(f\"TabulatedData/GameName.csv\", \"r\") as f:\n",
    "    rows_to_add = []\n",
    "    for line in f:\n",
    "            # Desempaquetar y eliminar espacios en blanco\n",
    "            GameName, ReleaseDate = map(str.strip, line.split(\",\"))\n",
    "            \n",
    "            # Diccionario para la nueva fila\n",
    "            new_row = {\n",
    "                \"Games\": GameName,\n",
    "                \"ReleaseDate\": ReleaseDate,\n",
    "                \"CharactersPath\": f\"Data/{GameName}.csv\",\n",
    "                \"ImageLink\": \"\",\n",
    "                \"2D\": \"\",\n",
    "                \"3D\": \"\",\n",
    "                \"TagTeam\": \"\",\n",
    "                \"AirDashers\": \"\",\n",
    "                \"Anime\": \"\",\n",
    "                \"WeaponBased\": \"\",\n",
    "                \"Fast-paced\": \"\",\n",
    "                \"Footsies\": \"\",\n",
    "                \"SlowPaced\": \"\",\n",
    "                \"Installbased\": \"\",\n",
    "                \"CrossOver\": \"\"\n",
    "            }\n",
    "            \n",
    "            # Añadir a la lista de filas a agregar\n",
    "            rows_to_add.append(new_row)\n",
    "\n",
    "    # Usar pandas.concat para agregar todas las filas al DataFrame\n",
    "    df = pd.concat([df, pd.DataFrame(rows_to_add)], ignore_index=True)"
   ]
  },
  {
   "cell_type": "code",
   "execution_count": null,
   "metadata": {},
   "outputs": [
    {
     "ename": "",
     "evalue": "",
     "output_type": "error",
     "traceback": [
      "\u001b[1;31mRunning cells with 'Python 3.12.2' requires the ipykernel package.\n",
      "\u001b[1;31mRun the following command to install 'ipykernel' into the Python environment. \n",
      "\u001b[1;31mCommand: '/bin/python -m pip install ipykernel -U --user --force-reinstall'"
     ]
    }
   ],
   "source": [
    "\n",
    "\"\"\"\n",
    "Volver el dataFrame del pirmer bloque en un CSV\n",
    "\"\"\"\n",
    "\n",
    "df.to_csv(\"Games.csv\", index=False) "
   ]
  }
 ],
 "metadata": {
  "kernelspec": {
   "display_name": "fgc-recommendator",
   "language": "python",
   "name": "python3"
  },
  "language_info": {
   "codemirror_mode": {
    "name": "ipython",
    "version": 3
   },
   "file_extension": ".py",
   "mimetype": "text/x-python",
   "name": "python",
   "nbconvert_exporter": "python",
   "pygments_lexer": "ipython3",
   "version": "3.12.3"
  }
 },
 "nbformat": 4,
 "nbformat_minor": 2
}
