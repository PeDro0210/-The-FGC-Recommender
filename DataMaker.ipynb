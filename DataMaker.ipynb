{
 "cells": [
  {
   "cell_type": "code",
   "execution_count": 1,
   "metadata": {},
   "outputs": [],
   "source": [
    "import pandas as pd\n",
    "\n",
    "\"\"\"\n",
    "Como ira organizado el DataFrame\n",
    "\n",
    "Games | ReleaseDate | CharactersPath | Developer | 2D | 3D | TagTeam | AirDashers | Anime | WeaponBased | Fast-paced | Footsies | SlowPaced | Installbased | CrossOver\n",
    "Nombre | Fecha de Lanzamiento | Ruta_en_dir_data (del archivo con los links de personajes) | Desarrollador | y el resto con una X mayuscula si tiene esa caracteristica o un espacio si no la tiene\n",
    "\"\"\"\n",
    "\n",
    "\n",
    "df = pd.DataFrame({\"Games\":[],\n",
    "                   \"ReleaseDate\":[],\n",
    "                   \"CharactersPath\":[],\n",
    "                   \"Developer\":[], \n",
    "                   \"2D\":[], \n",
    "                   \"3D\":[], \n",
    "                   \"TagTeam\":[], \n",
    "                   \"AirDashers\":[], \n",
    "                   \"Anime\":[], \n",
    "                   \"WeaponBased\":[], \n",
    "                   \"Fast-paced\":[],\n",
    "                   \"Footsies\":[],\n",
    "                   \"SlowPaced\":[],\n",
    "                   \"Installbased\":[],\n",
    "                   \"CrossOver\":[]\n",
    "                   })\n",
    "\n",
    "\n",
    "\n",
    "#funcion que crea un archivo csv con el nombre del juego y la link de discord de la imagen de los personajes.\n",
    "\n",
    "def CreateCharacterFile(GameName):\n",
    "    with open(f\"Data/{GameName}.csv\", \"w\") as f:\n",
    "        # First row is the header, put CharacterName and ImageLink\\\n",
    "        f.write(\"CharacterName,ImageLink\\n\")\n",
    "        f.close()\n",
    "\n"
   ]
  },
  {
   "cell_type": "code",
   "execution_count": null,
   "metadata": {},
   "outputs": [],
   "source": [
    "\n",
    "\"\"\"\n",
    "Agregar un nuevo juego por medio de los archivos tabulados\n",
    "Los archivos tabulados deben de estar en la carpeta TabulatedData\n",
    "\"\"\"\n",
    "\n",
    "with (open(f\"TabulatedData/GameName.csv\"), \"r\") as f:\n",
    "    for line in f:\n",
    "        GameName, ReleaseDate = line.split(\",\")\n",
    "        GameName = GameName.strip()\n",
    "        ReleaseDate = ReleaseDate.strip()\n",
    "        CreateCharacterFile(GameName)\n",
    "        df = df.append({\"Games\":GameName,\n",
    "                        \"ReleaseDate\":ReleaseDate,\n",
    "                        \"CharactersPath\":f\"Data/{GameName}.csv\",\n",
    "                        \"Developer\":\"\", \n",
    "                        \"2D\":\"\", \n",
    "                        \"3D\":\"\", \n",
    "                        \"TagTeam\":\"\", \n",
    "                        \"AirDashers\":\"\", \n",
    "                        \"Anime\":\"\", \n",
    "                        \"WeaponBased\":\"\", \n",
    "                        \"Fast-paced\":\"\",\n",
    "                        \"Footsies\":\"\",\n",
    "                        \"SlowPaced\":\"\",\n",
    "                        \"Installbased\":\"\",\n",
    "                        \"CrossOver\":\"\"\n",
    "                        }, ignore_index=True)"
   ]
  }
 ],
 "metadata": {
  "kernelspec": {
   "display_name": "fgc-recommendator",
   "language": "python",
   "name": "python3"
  },
  "language_info": {
   "codemirror_mode": {
    "name": "ipython",
    "version": 3
   },
   "file_extension": ".py",
   "mimetype": "text/x-python",
   "name": "python",
   "nbconvert_exporter": "python",
   "pygments_lexer": "ipython3",
   "version": "3.12.3"
  }
 },
 "nbformat": 4,
 "nbformat_minor": 2
}
